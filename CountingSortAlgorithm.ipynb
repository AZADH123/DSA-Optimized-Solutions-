{
  "nbformat": 4,
  "nbformat_minor": 0,
  "metadata": {
    "colab": {
      "provenance": [],
      "authorship_tag": "ABX9TyOT9akBlYTRqlEcAnernTSP",
      "include_colab_link": true
    },
    "kernelspec": {
      "name": "python3",
      "display_name": "Python 3"
    },
    "language_info": {
      "name": "python"
    }
  },
  "cells": [
    {
      "cell_type": "markdown",
      "metadata": {
        "id": "view-in-github",
        "colab_type": "text"
      },
      "source": [
        "<a href=\"https://colab.research.google.com/github/AZADH123/DSA-Optimized-Solutions-/blob/main/CountingSortAlgorithm.ipynb\" target=\"_parent\"><img src=\"https://colab.research.google.com/assets/colab-badge.svg\" alt=\"Open In Colab\"/></a>"
      ]
    },
    {
      "cell_type": "code",
      "execution_count": 74,
      "metadata": {
        "colab": {
          "base_uri": "https://localhost:8080/"
        },
        "id": "f4MeuJE45z8z",
        "outputId": "f22c945f-7934-4cc7-84ac-f26a494e1871"
      },
      "outputs": [
        {
          "output_type": "stream",
          "name": "stdout",
          "text": [
            "[4, 2, 2, 8, 3, 3, 1]\n",
            "MIN_VALUE =  1\n",
            "MAX_VALUE =  8\n",
            " (RANGE)->k = MAX_VALU - MIN_VALUE + 1 \n",
            "//////////////////////////////////\n",
            "//////////////////////////////////\n",
            "count of 4 places its respective index --> 3\n",
            "[0, 0, 0, 1, 0, 0, 0, 0]\n",
            "count of 2 places its respective index --> 1\n",
            "[0, 1, 0, 1, 0, 0, 0, 0]\n",
            "count of 2 places its respective index --> 1\n",
            "[0, 2, 0, 1, 0, 0, 0, 0]\n",
            "count of 8 places its respective index --> 7\n",
            "[0, 2, 0, 1, 0, 0, 0, 1]\n",
            "count of 3 places its respective index --> 2\n",
            "[0, 2, 1, 1, 0, 0, 0, 1]\n",
            "count of 3 places its respective index --> 2\n",
            "[0, 2, 2, 1, 0, 0, 0, 1]\n",
            "count of 1 places its respective index --> 0\n",
            "[1, 2, 2, 1, 0, 0, 0, 1]\n",
            "THE FINAL CUMULATIVE ARRAY---> [1, 2, 2, 1, 0, 0, 0, 1]\n",
            "//////////////////////////////////\n",
            "//////////////////////////////////\n",
            "add all elements in list then we get cumulative array element [1]\n",
            "[1, 3, 0, 0, 0, 0, 0, 0]\n",
            "add all elements in list then we get cumulative array element [1, 2]\n",
            "[1, 3, 5, 0, 0, 0, 0, 0]\n",
            "add all elements in list then we get cumulative array element [1, 2, 2]\n",
            "[1, 3, 5, 6, 0, 0, 0, 0]\n",
            "add all elements in list then we get cumulative array element [1, 2, 2, 1]\n",
            "[1, 3, 5, 6, 6, 0, 0, 0]\n",
            "add all elements in list then we get cumulative array element [1, 2, 2, 1, 0]\n",
            "[1, 3, 5, 6, 6, 6, 0, 0]\n",
            "add all elements in list then we get cumulative array element [1, 2, 2, 1, 0, 0]\n",
            "[1, 3, 5, 6, 6, 6, 6, 0]\n",
            "add all elements in list then we get cumulative array element [1, 2, 2, 1, 0, 0, 0]\n",
            "[1, 3, 5, 6, 6, 6, 6, 7]\n",
            "//////////////////////////////////\n",
            "//////////////////////////////////\n",
            "[4, 2, 2, 8, 3, 3, 1]\n",
            "REVERSE A ARRAY AND TAKE THE ELEMENT AND INSERT AS PER THE SORTING CONDITION\n",
            "[1, 3, 3, 8, 2, 2, 4]\n",
            "THE SORTED ARRAY =  [1, 2, 2, 3, 3, 4, 8]\n"
          ]
        }
      ],
      "source": [
        "def countingSort(A):\n",
        "  MIN_VALUE = min(A)\n",
        "  MAX_VALUE = max(A)\n",
        "  print(A)\n",
        "  print(\"MIN_VALUE = \",min(A))\n",
        "  print(\"MAX_VALUE = \",max(A))\n",
        "  print(\" (RANGE)->k = MAX_VALU - MIN_VALUE + 1 \")\n",
        "  for i in range(2):\n",
        "    print(\"//////////////////////////////////\")\n",
        "  k = MAX_VALUE - MIN_VALUE + 1\n",
        "  c = [0] * k\n",
        "  cu = [0] * k\n",
        "  ans=[0] *len(A)\n",
        "  for i in range(len(A)):\n",
        "    c[A[i] - 1] += 1\n",
        "    print(\"count of\",A[i],\"places its respective index -->\",A[i]-1)\n",
        "    print(c)\n",
        "  print(\"THE FINAL CUMULATIVE ARRAY--->\",c)\n",
        "  for i in range(2):\n",
        "    print(\"//////////////////////////////////\")\n",
        "  for i in range(1,k):\n",
        "    cu[0] = c[0]\n",
        "    cu[i] = c[i] + cu[i-1]\n",
        "    print(\"add all elements in list then we get cumulative array element\",c[:i])\n",
        "    print(cu)\n",
        "  for i in range(2):\n",
        "    print(\"//////////////////////////////////\")\n",
        "  print(A)\n",
        "  A=A[::-1]\n",
        "  print(\"REVERSE A ARRAY AND TAKE THE ELEMENT AND INSERT AS PER THE SORTING CONDITION\")\n",
        "  print(A)\n",
        "  for i in range(len(A)):\n",
        "    j = cu[A[i] - MIN_VALUE] -1\n",
        "    ans[j] = A[i]\n",
        "    cu[A[i]-MIN_VALUE] -= 1\n",
        "  return ans\n",
        "\n",
        "A = [4, 2, 2, 8, 3, 3, 1]\n",
        "print(\"THE SORTED ARRAY = \",countingSort(A))"
      ]
    },
    {
      "cell_type": "code",
      "source": [
        "A = [4, 2, 2, 8, 3, 3, 1]\n",
        "A = A[::-1]\n",
        "print(A)"
      ],
      "metadata": {
        "colab": {
          "base_uri": "https://localhost:8080/"
        },
        "id": "CrKcgM0vatbR",
        "outputId": "347d011c-6bc8-4ff2-fec7-ecf06707dc32"
      },
      "execution_count": 55,
      "outputs": [
        {
          "output_type": "stream",
          "name": "stdout",
          "text": [
            "[1, 3, 3, 8, 2, 2, 4]\n"
          ]
        }
      ]
    }
  ]
}