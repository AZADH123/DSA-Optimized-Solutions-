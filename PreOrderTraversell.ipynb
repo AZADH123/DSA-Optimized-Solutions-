{
  "nbformat": 4,
  "nbformat_minor": 0,
  "metadata": {
    "colab": {
      "provenance": [],
      "authorship_tag": "ABX9TyMLlkFxuNzHbinTcC3Zh9kO",
      "include_colab_link": true
    },
    "kernelspec": {
      "name": "python3",
      "display_name": "Python 3"
    },
    "language_info": {
      "name": "python"
    }
  },
  "cells": [
    {
      "cell_type": "markdown",
      "metadata": {
        "id": "view-in-github",
        "colab_type": "text"
      },
      "source": [
        "<a href=\"https://colab.research.google.com/github/AZADH123/DSA-Optimized-Solutions-/blob/main/PreOrderTraversell.ipynb\" target=\"_parent\"><img src=\"https://colab.research.google.com/assets/colab-badge.svg\" alt=\"Open In Colab\"/></a>"
      ]
    },
    {
      "cell_type": "code",
      "execution_count": 1,
      "metadata": {
        "colab": {
          "base_uri": "https://localhost:8080/"
        },
        "id": "CUXxSEhjpUq3",
        "outputId": "3904d272-e953-41a5-cfe6-0c1f7d3fcd83"
      },
      "outputs": [
        {
          "output_type": "stream",
          "name": "stdout",
          "text": [
            "Pre-order Traversal: [1, 2, 4, 5, 3]\n"
          ]
        }
      ],
      "source": [
        "# Define the structure of a binary tree node\n",
        "class TreeNode:\n",
        "    def __init__(self, data):\n",
        "        self.data = data\n",
        "        self.left = None\n",
        "        self.right = None\n",
        "\n",
        "# Function to perform iterative pre-order traversal\n",
        "def preorder_iterative(root):\n",
        "    if not root:\n",
        "        return []  # Return an empty list if the tree is empty\n",
        "\n",
        "    result = []  # To store the traversal result\n",
        "    stack = []   # Stack to simulate recursion\n",
        "    stack.append(root)  # Start with the root node\n",
        "\n",
        "    while stack:\n",
        "        node = stack.pop()  # Pop the top node from the stack\n",
        "        result.append(node.data)  # Process the current node\n",
        "\n",
        "        # Push the right child first, then the left child\n",
        "        if node.right:\n",
        "            stack.append(node.right)\n",
        "        if node.left:\n",
        "            stack.append(node.left)\n",
        "\n",
        "    return result  # Return the traversal result\n",
        "\n",
        "# Example usage\n",
        "if __name__ == \"__main__\":\n",
        "    # Create a binary tree\n",
        "    #       1\n",
        "    #      / \\\n",
        "    #     2   3\n",
        "    #    / \\\n",
        "    #   4   5\n",
        "    root = TreeNode(1)\n",
        "    root.left = TreeNode(2)\n",
        "    root.right = TreeNode(3)\n",
        "    root.left.left = TreeNode(4)\n",
        "    root.left.right = TreeNode(5)\n",
        "\n",
        "    # Perform pre-order traversal\n",
        "    result = preorder_iterative(root)\n",
        "    print(\"Pre-order Traversal:\", result)  # Output: [1, 2, 4, 5, 3]"
      ]
    }
  ]
}