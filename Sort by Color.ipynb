{
  "cells": [
    {
      "cell_type": "markdown",
      "metadata": {
        "id": "view-in-github",
        "colab_type": "text"
      },
      "source": [
        "<a href=\"https://colab.research.google.com/github/AZADH123/DSA-Optimized-Solutions-/blob/main/Sort%20by%20Color.ipynb\" target=\"_parent\"><img src=\"https://colab.research.google.com/assets/colab-badge.svg\" alt=\"Open In Colab\"/></a>"
      ]
    },
    {
      "cell_type": "code",
      "execution_count": 15,
      "metadata": {
        "id": "zwFnJsE6vjf8",
        "colab": {
          "base_uri": "https://localhost:8080/"
        },
        "outputId": "3ae4c9e9-4555-4ce0-8c58-f07f4b95a8ab"
      },
      "outputs": [
        {
          "output_type": "stream",
          "name": "stdout",
          "text": [
            "[0, 0, 1, 1, 2, 2]\n"
          ]
        }
      ],
      "source": [
        "\"\"\"Given an array with N objects colored red, white, or blue,\n",
        "sort them so that objects of the same color are adjacent, with the colors in the order red, white, and blue.\n",
        "We will represent the colors as,\n",
        "\n",
        "red -> 0\n",
        "white -> 1\n",
        "blue -> 2\n",
        "\n",
        "Note: Using the library sort function is not allowed.\"\"\"\n",
        "\n",
        "def solve(A):\n",
        "  Cnt0 = 0\n",
        "  Cnt1 = 0\n",
        "  Cnt2 = 0\n",
        "  n = len(A)\n",
        "  B =[0] * n\n",
        "  for i in range(n):\n",
        "    if A[i] == 0:\n",
        "      Cnt0 += 1\n",
        "    elif A[i] == 1:\n",
        "      Cnt1 += 1\n",
        "    else:\n",
        "      Cnt2 += 1\n",
        "  i = 0\n",
        "  while Cnt0 > 0:\n",
        "    B[i] = 0\n",
        "    Cnt0 -= 1\n",
        "    i += 1\n",
        "  while Cnt1 > 0:\n",
        "    B[i] = 1\n",
        "    i += 1\n",
        "    Cnt1 -= 1\n",
        "  while Cnt2 > 0:\n",
        "    B[i] = 2\n",
        "    i += 1\n",
        "    Cnt2 -= 1\n",
        "  return B\n",
        "\n",
        "A = [0, 1, 2, 0, 1, 2]\n",
        "print(solve(A))\n"
      ]
    }
  ],
  "metadata": {
    "colab": {
      "name": "Welcome to Colaboratory",
      "toc_visible": true,
      "provenance": [],
      "include_colab_link": true
    },
    "kernelspec": {
      "display_name": "Python 3",
      "name": "python3"
    }
  },
  "nbformat": 4,
  "nbformat_minor": 0
}