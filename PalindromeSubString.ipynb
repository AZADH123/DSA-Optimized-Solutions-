{
  "nbformat": 4,
  "nbformat_minor": 0,
  "metadata": {
    "colab": {
      "provenance": [],
      "authorship_tag": "ABX9TyONoKKKuQGUhc4XHWjMLDUr",
      "include_colab_link": true
    },
    "kernelspec": {
      "name": "python3",
      "display_name": "Python 3"
    },
    "language_info": {
      "name": "python"
    }
  },
  "cells": [
    {
      "cell_type": "markdown",
      "metadata": {
        "id": "view-in-github",
        "colab_type": "text"
      },
      "source": [
        "<a href=\"https://colab.research.google.com/github/AZADH123/DSA-Optimized-Solutions-/blob/main/PalindromeSubString.ipynb\" target=\"_parent\"><img src=\"https://colab.research.google.com/assets/colab-badge.svg\" alt=\"Open In Colab\"/></a>"
      ]
    },
    {
      "cell_type": "markdown",
      "source": [
        "Write a Python function to find the length of the longest palindromic substring in a given string. A palindromic substring is a substring that reads the same backward as forward.\n",
        "\n",
        "Your solution should include:\n",
        "\n",
        "A helper function to expand around the center of potential palindromes.\n",
        "Consider both odd-length and even-length palindromes.\n",
        "Provide the implementation of both the helper and main function."
      ],
      "metadata": {
        "id": "p6RIq6Uu1OJZ"
      }
    },
    {
      "cell_type": "code",
      "execution_count": 10,
      "metadata": {
        "colab": {
          "base_uri": "https://localhost:8080/"
        },
        "id": "vH11-GP5wP-w",
        "outputId": "1cb748f2-134d-4d91-d118-527aa6abdfdc"
      },
      "outputs": [
        {
          "output_type": "stream",
          "name": "stdout",
          "text": [
            "5\n"
          ]
        }
      ],
      "source": [
        "def expand(A,i,j):\n",
        "  ans = 0\n",
        "  while (i >= 0 and j < len(A) and A[i] == A[j]):\n",
        "    ans = j - i + 1\n",
        "    i -=1\n",
        "    j +=1\n",
        "  return ans\n",
        "def caller(A):\n",
        "  ans = 0\n",
        "  for i in range(len(A)):\n",
        "    ans = max(ans,expand(A, i, i))\n",
        "    ans = max(ans,expand(A, i, i+1))\n",
        "  return ans\n",
        "A = \"abacab\"\n",
        "print(caller(A))"
      ]
    },
    {
      "cell_type": "markdown",
      "source": [
        "\n",
        "**Time Complexity:**\n",
        "\n",
        "O(n²): The expand function can run up to O(n) iterations for each center, and there are 2n - 1 centers to consider (n for odd-length palindromes and n-1 for even-length). Thus, the overall time complexity is O(n × n) = O(n²).\n",
        "\n",
        "**Space Complexity:**\n",
        "\n",
        "O(1): The algorithm uses a constant amount of extra space, as it operates directly on the input string without requiring additional data structures like arrays or matrices"
      ],
      "metadata": {
        "id": "MX9NviuM1Ro8"
      }
    }
  ]
}