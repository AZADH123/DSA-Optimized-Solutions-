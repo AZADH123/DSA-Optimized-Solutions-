{
  "nbformat": 4,
  "nbformat_minor": 0,
  "metadata": {
    "colab": {
      "provenance": [],
      "authorship_tag": "ABX9TyPu8RIuUAM02Ubz6VgO3xJy",
      "include_colab_link": true
    },
    "kernelspec": {
      "name": "python3",
      "display_name": "Python 3"
    },
    "language_info": {
      "name": "python"
    }
  },
  "cells": [
    {
      "cell_type": "markdown",
      "metadata": {
        "id": "view-in-github",
        "colab_type": "text"
      },
      "source": [
        "<a href=\"https://colab.research.google.com/github/AZADH123/DSA-Optimized-Solutions-/blob/main/Largest%20Number.ipynb\" target=\"_parent\"><img src=\"https://colab.research.google.com/assets/colab-badge.svg\" alt=\"Open In Colab\"/></a>"
      ]
    },
    {
      "cell_type": "code",
      "execution_count": 10,
      "metadata": {
        "colab": {
          "base_uri": "https://localhost:8080/"
        },
        "id": "--ZQj2uscjwH",
        "outputId": "d0690550-107d-42c6-a021-d60b60c232c1"
      },
      "outputs": [
        {
          "output_type": "stream",
          "name": "stdout",
          "text": [
            "9430\n"
          ]
        }
      ],
      "source": [
        "from functools import cmp_to_key\n",
        "\n",
        "def comp(a, b):\n",
        "    if str(a) + str(b) > str(b) + str(a):\n",
        "        return -1\n",
        "    elif str(a) + str(b) < str(b) + str(a):\n",
        "        return 1\n",
        "    else:\n",
        "        return 0\n",
        "\n",
        "def largestNumber(A):\n",
        "    A.sort(key=cmp_to_key(comp))\n",
        "    result = ''.join(str(x) for x in A)\n",
        "    return \"0\" if result[0] == \"0\" else result\n",
        "A = [4, 3, 9, 0]\n",
        "print(largestNumber(A))  # Output: \"9430\"\n",
        "\n",
        ""
      ]
    },
    {
      "cell_type": "markdown",
      "source": [
        "Problem Statement\n",
        "You are given an array A of non-negative integers. The task is to arrange these numbers such that they form the largest possible number when concatenated.\n",
        "\n",
        "Note:\n",
        "\n",
        "Since the result could be very large, return the answer as a string.\n",
        "For example, concatenating 9 and 34 as \"934\" is larger than \"349\".\n",
        "Constraints\n",
        "1\n",
        "≤\n",
        "len\n",
        "(\n",
        "𝐴\n",
        ")\n",
        "≤\n",
        "100\n",
        ",\n",
        "000\n",
        "1≤len(A)≤100,000\n",
        "0\n",
        "≤\n",
        "𝐴\n",
        "[\n",
        "𝑖\n",
        "]\n",
        "≤\n",
        "2\n",
        "×\n",
        "1\n",
        "0\n",
        "9\n",
        "0≤A[i]≤2×10\n",
        "9\n",
        "\n",
        "Input Format\n",
        "An array A of integers.\n",
        "Output Format\n",
        "A single string representing the largest possible number.\n",
        "Examples\n",
        "Example 1:\n",
        "Input:\n",
        "A = [3, 30, 34, 5, 9]\n",
        "Output:\n",
        "\"9534330\"\n",
        "\n",
        "Example 2:\n",
        "Input:\n",
        "A = [2, 3, 9, 0]\n",
        "Output:\n",
        "\"9320\"\n",
        "\n",
        "Explanation\n",
        "In Example 1:\n",
        "\n",
        "Rearrange [3, 30, 34, 5, 9] as \"9\" + \"5\" + \"34\" + \"3\" + \"30\".\n",
        "This forms the largest number: \"9534330\".\n",
        "In Example 2:\n",
        "\n",
        "Rearrange [2, 3, 9, 0] as \"9\" + \"3\" + \"2\" + \"0\".\n",
        "This forms the largest number: \"9320\"."
      ],
      "metadata": {
        "id": "EZKdjaXKdAuk"
      }
    }
  ]
}