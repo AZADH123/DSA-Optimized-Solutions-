{
  "nbformat": 4,
  "nbformat_minor": 0,
  "metadata": {
    "colab": {
      "provenance": [],
      "authorship_tag": "ABX9TyMLedDJmNXeAf2rlgDbRTFN",
      "include_colab_link": true
    },
    "kernelspec": {
      "name": "python3",
      "display_name": "Python 3"
    },
    "language_info": {
      "name": "python"
    }
  },
  "cells": [
    {
      "cell_type": "markdown",
      "metadata": {
        "id": "view-in-github",
        "colab_type": "text"
      },
      "source": [
        "<a href=\"https://colab.research.google.com/github/AZADH123/DSA-Optimized-Solutions-/blob/main/ReverseOFwordsINstring.ipynb\" target=\"_parent\"><img src=\"https://colab.research.google.com/assets/colab-badge.svg\" alt=\"Open In Colab\"/></a>"
      ]
    },
    {
      "cell_type": "markdown",
      "source": [
        "**REVERSE WORDS OF STRING**\n",
        "\n",
        "The time complexity of reversing the words in a string using pointers in Python is:\n",
        "\n",
        "\n",
        "\n",
        "\n",
        "1. Reversing the Entire String:\n",
        "Reversing the string takes O(n), where n is the length of the string.\n",
        "This operation involves swapping characters from the beginning and the end of the string, traversing the entire length.\n",
        "2. Reversing Each Word:\n",
        "Reversing each word also involves traversing all characters of the string.\n",
        "Since every character is part of exactly one word, the total time spent reversing words is O(n).\n",
        "\n",
        "\n",
        "\n",
        "**Total Time Complexity:**\n",
        "\n",
        "\n",
        "The total time complexity is the sum of these two operations:\n",
        "\n",
        "\n",
        "O(n)+O(n)=O(n)\n",
        "\n",
        "\n",
        "Space Complexity:\n",
        "\n",
        "\n",
        "The space complexity is\n",
        "O(n) due to converting the string into a list for in-place manipulation.\n",
        "If the input were already a mutable list of characters, the space complexity would be\n",
        "O(1).\n",
        "Summary:\n",
        "\n",
        "\n",
        "\n",
        "Time Complexity\n",
        "\n",
        "O(n)\n",
        "\n",
        "\n",
        "Space Complexity:\n",
        "\n",
        "O(n)\n",
        "\n",
        "\n",
        "\n",
        "\n",
        "\n"
      ],
      "metadata": {
        "id": "gl6k6fpIs5eW"
      }
    },
    {
      "cell_type": "code",
      "source": [
        "def reverse_section(arr, start, end):\n",
        "    while start < end:\n",
        "        arr[start], arr[end] = arr[end], arr[start]\n",
        "        start += 1\n",
        "        end -= 1\n",
        "\n",
        "def reverse_words(string):\n",
        "    chars = list(string)\n",
        "    n = len(chars)\n",
        "    reverse_section(chars, 0, n - 1)\n",
        "    start = 0\n",
        "    for i in range(n + 1):\n",
        "        if i == n or chars[i] == ' ':\n",
        "            reverse_section(chars, start, i - 1)\n",
        "            start = i + 1\n",
        "    return ''.join(chars)\n",
        "\n",
        "input_string = \"He IS WELL\"\n",
        "output_string = reverse_words(input_string)\n",
        "\n",
        "print(\"Original String:\", input_string)\n",
        "print(\"Reversed Words:\", output_string)"
      ],
      "metadata": {
        "colab": {
          "base_uri": "https://localhost:8080/"
        },
        "id": "CVuZgGextock",
        "outputId": "be04ac40-3e32-4451-b5cb-8f71a45241d7"
      },
      "execution_count": 46,
      "outputs": [
        {
          "output_type": "stream",
          "name": "stdout",
          "text": [
            "Original String: He IS WELL\n",
            "Reversed Words: WELL IS He\n"
          ]
        }
      ]
    },
    {
      "cell_type": "code",
      "execution_count": 40,
      "metadata": {
        "colab": {
          "base_uri": "https://localhost:8080/"
        },
        "id": "LRMzVCaAXfmA",
        "outputId": "4ff98f5c-8d52-41c2-de16-e853d9ea974a"
      },
      "outputs": [
        {
          "output_type": "stream",
          "name": "stdout",
          "text": [
            "WELL IS HE\n"
          ]
        }
      ],
      "source": [
        "str = \"HE IS WELL\"\n",
        "a = str.split(\" \")\n",
        "str = \" \".join(a[::-1])\n",
        "print(str)\n",
        "\n",
        "\n"
      ]
    },
    {
      "cell_type": "code",
      "source": [
        "str = \"HE IS WELL\"\n",
        "a = str.split(\" \")\n",
        "a.reverse()\n",
        "str = \" \".join(a)\n",
        "print(str)\n"
      ],
      "metadata": {
        "colab": {
          "base_uri": "https://localhost:8080/"
        },
        "id": "5L00VNmlsfeN",
        "outputId": "576d8e66-aaaf-4c52-c00a-dce8d755487e"
      },
      "execution_count": 44,
      "outputs": [
        {
          "output_type": "stream",
          "name": "stdout",
          "text": [
            "WELL IS HE\n"
          ]
        }
      ]
    },
    {
      "cell_type": "code",
      "source": [
        "str = \"HE IS WELL\"\n",
        "a = str.split(\" \")\n",
        "b = a[::-1]\n",
        "str = \" \".join(b)\n",
        "print(str)"
      ],
      "metadata": {
        "colab": {
          "base_uri": "https://localhost:8080/"
        },
        "id": "i2UnbW2msK25",
        "outputId": "37dc112d-5e3d-431e-920c-1620f0266985"
      },
      "execution_count": 39,
      "outputs": [
        {
          "output_type": "stream",
          "name": "stdout",
          "text": [
            "WELL IS HE\n"
          ]
        }
      ]
    },
    {
      "cell_type": "code",
      "source": [
        "str = \"HE IS WELL\"\n",
        "a = str.split(\" \")\n",
        "n = len(a)\n",
        "l =[0]*n\n",
        "j = n-1;\n",
        "for i in range(n):\n",
        "  l[j] = a[i]\n",
        "  j = j-1\n",
        "s = \" \".join(l)\n",
        "print(s)\n"
      ],
      "metadata": {
        "colab": {
          "base_uri": "https://localhost:8080/"
        },
        "id": "WLJ1pIVllPKk",
        "outputId": "4cab3690-efc2-42ed-e7a5-94be2dbdc4f3"
      },
      "execution_count": 37,
      "outputs": [
        {
          "output_type": "stream",
          "name": "stdout",
          "text": [
            "WELL IS HE\n"
          ]
        }
      ]
    }
  ]
}