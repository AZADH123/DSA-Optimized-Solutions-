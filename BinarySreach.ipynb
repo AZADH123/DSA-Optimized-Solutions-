{
  "nbformat": 4,
  "nbformat_minor": 0,
  "metadata": {
    "colab": {
      "provenance": [],
      "authorship_tag": "ABX9TyPVjMwQjB1NFjnkdww3y8bp",
      "include_colab_link": true
    },
    "kernelspec": {
      "name": "python3",
      "display_name": "Python 3"
    },
    "language_info": {
      "name": "python"
    }
  },
  "cells": [
    {
      "cell_type": "markdown",
      "metadata": {
        "id": "view-in-github",
        "colab_type": "text"
      },
      "source": [
        "<a href=\"https://colab.research.google.com/github/AZADH123/DSA-Optimized-Solutions-/blob/main/BinarySreach.ipynb\" target=\"_parent\"><img src=\"https://colab.research.google.com/assets/colab-badge.svg\" alt=\"Open In Colab\"/></a>"
      ]
    },
    {
      "cell_type": "code",
      "execution_count": 1,
      "metadata": {
        "colab": {
          "base_uri": "https://localhost:8080/"
        },
        "id": "JNNFbZ_nmmVO",
        "outputId": "06f6bb95-f54e-4b46-c868-51a4ca694134"
      },
      "outputs": [
        {
          "output_type": "stream",
          "name": "stdout",
          "text": [
            "\n",
            "Inorder traversal of a tree with 10 nodes took 0.000005 seconds.\n",
            "\n",
            "Inorder traversal of a tree with 100 nodes took 0.000017 seconds.\n",
            "\n",
            "Inorder traversal of a tree with 1000 nodes took 0.000191 seconds.\n",
            "\n",
            "Inorder traversal of a tree with 10000 nodes took 0.007471 seconds.\n"
          ]
        }
      ],
      "source": [
        "class TreeNode:\n",
        "    \"\"\"Node of a binary tree.\"\"\"\n",
        "    def __init__(self, key):\n",
        "        self.left = None  # Left child\n",
        "        self.right = None  # Right child\n",
        "        self.key = key  # Value of the node\n",
        "\n",
        "def inorder_tree_walk(root):\n",
        "    \"\"\"Perform an inorder traversal of the binary tree.\"\"\"\n",
        "    if root is not None:\n",
        "        inorder_tree_walk(root.left)  # Traverse the left subtree\n",
        "        #print(root.key, end=\" \")  # Visit the root node\n",
        "        inorder_tree_walk(root.right)  # Traverse the right subtree\n",
        "\n",
        "def build_balanced_tree(n):\n",
        "    \"\"\"Build a balanced binary tree with `n` nodes.\"\"\"\n",
        "    if n == 0:\n",
        "        return None\n",
        "    mid = n // 2\n",
        "    root = TreeNode(mid)\n",
        "    root.left = build_balanced_tree(mid)  # Build left subtree\n",
        "    root.right = build_balanced_tree(n - mid - 1)  # Build right subtree\n",
        "    return root\n",
        "\n",
        "def main():\n",
        "    import time\n",
        "\n",
        "    # Test tree sizes\n",
        "    tree_sizes = [10, 100, 1000, 10000]\n",
        "\n",
        "    for size in tree_sizes:\n",
        "        # Build a balanced binary tree with `size` nodes\n",
        "        root = build_balanced_tree(size)\n",
        "\n",
        "        # Measure the time taken for inorder traversal\n",
        "        start_time = time.time()\n",
        "        inorder_tree_walk(root)\n",
        "        end_time = time.time()\n",
        "\n",
        "        # Print the results\n",
        "        print(f\"\\nInorder traversal of a tree with {size} nodes took {end_time - start_time:.6f} seconds.\")\n",
        "\n",
        "if __name__ == \"__main__\":\n",
        "    main()"
      ]
    }
  ]
}